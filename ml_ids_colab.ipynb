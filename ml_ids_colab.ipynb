{
  "nbformat": 4,
  "nbformat_minor": 0,
  "metadata": {
    "colab": {
      "name": "ml-ids-colab.ipynb",
      "provenance": [],
      "collapsed_sections": [],
      "mount_file_id": "1gfVubXXImbBFYZcIVsAq-xvhkThn56ur",
      "authorship_tag": "ABX9TyNdRndYsHKRtr7v0y3K4ZY3",
      "include_colab_link": true
    },
    "kernelspec": {
      "name": "python3",
      "display_name": "Python 3"
    },
    "language_info": {
      "name": "python"
    }
  },
  "cells": [
    {
      "cell_type": "markdown",
      "metadata": {
        "id": "view-in-github",
        "colab_type": "text"
      },
      "source": [
        "<a href=\"https://colab.research.google.com/github/modelonulo/ml-based-intrusion-detection-system/blob/master/ml_ids_colab.ipynb\" target=\"_parent\"><img src=\"https://colab.research.google.com/assets/colab-badge.svg\" alt=\"Open In Colab\"/></a>"
      ]
    },
    {
      "cell_type": "code",
      "metadata": {
        "colab": {
          "base_uri": "https://localhost:8080/"
        },
        "id": "woCX5fdvQI-w",
        "outputId": "9c637330-2e26-4513-cf16-c148466e61c3"
      },
      "source": [
        "!pip install pandas numpy scikit-learn pydotplus matplotlib "
      ],
      "execution_count": null,
      "outputs": [
        {
          "output_type": "stream",
          "text": [
            "Requirement already satisfied: pandas in /usr/local/lib/python3.7/dist-packages (1.1.5)\n",
            "Requirement already satisfied: numpy in /usr/local/lib/python3.7/dist-packages (1.19.5)\n",
            "Requirement already satisfied: scikit-learn in /usr/local/lib/python3.7/dist-packages (0.22.2.post1)\n",
            "Requirement already satisfied: pydotplus in /usr/local/lib/python3.7/dist-packages (2.0.2)\n",
            "Requirement already satisfied: matplotlib in /usr/local/lib/python3.7/dist-packages (3.2.2)\n",
            "Requirement already satisfied: python-dateutil>=2.7.3 in /usr/local/lib/python3.7/dist-packages (from pandas) (2.8.1)\n",
            "Requirement already satisfied: pytz>=2017.2 in /usr/local/lib/python3.7/dist-packages (from pandas) (2018.9)\n",
            "Requirement already satisfied: scipy>=0.17.0 in /usr/local/lib/python3.7/dist-packages (from scikit-learn) (1.4.1)\n",
            "Requirement already satisfied: joblib>=0.11 in /usr/local/lib/python3.7/dist-packages (from scikit-learn) (1.0.1)\n",
            "Requirement already satisfied: pyparsing>=2.0.1 in /usr/local/lib/python3.7/dist-packages (from pydotplus) (2.4.7)\n",
            "Requirement already satisfied: cycler>=0.10 in /usr/local/lib/python3.7/dist-packages (from matplotlib) (0.10.0)\n",
            "Requirement already satisfied: kiwisolver>=1.0.1 in /usr/local/lib/python3.7/dist-packages (from matplotlib) (1.3.1)\n",
            "Requirement already satisfied: six>=1.5 in /usr/local/lib/python3.7/dist-packages (from python-dateutil>=2.7.3->pandas) (1.15.0)\n"
          ],
          "name": "stdout"
        }
      ]
    },
    {
      "cell_type": "code",
      "metadata": {
        "id": "h5mvQuCxQSPJ"
      },
      "source": [
        "import os \n",
        "import glob\n",
        "import pandas as pd\n",
        "\n",
        "\n",
        "import numpy as np\n",
        "import urllib\n",
        "\n",
        "import sklearn as sk\n",
        "\n",
        "from sklearn import tree\n",
        "from sklearn import  model_selection\n",
        "from sklearn.metrics import confusion_matrix\n",
        "from sklearn.model_selection import train_test_split\n",
        "from six import StringIO\n",
        "from sklearn.tree import export_graphviz\n",
        "from IPython.display import Image  \n",
        "from IPython.display import display\n",
        "import pydotplus\n",
        "\n",
        "\n",
        "from sklearn.ensemble import ExtraTreesClassifier\n",
        "from sklearn.ensemble import RandomForestRegressor\n",
        "from sklearn.tree import DecisionTreeClassifier \n",
        "\n",
        "\n",
        "import matplotlib\n",
        "\n",
        "%matplotlib inline\n",
        "from matplotlib import pyplot as plt\n",
        "\n",
        "from sklearn.preprocessing import MinMaxScaler\n",
        "\n",
        "from sklearn.feature_selection import SelectKBest\n",
        "from sklearn.feature_selection import chi2\n",
        "import time\n",
        "import pickle\n",
        "\n",
        "from pathlib import Path\n",
        "import seaborn as sns\n",
        "from sklearn.model_selection import train_test_split,KFold,cross_val_score, cross_val_predict\n",
        "from sklearn.linear_model import LogisticRegression \n",
        "from sklearn.ensemble import RandomForestClassifier ###\n",
        "from sklearn import svm\n",
        "\n",
        "from sklearn.neighbors import KNeighborsClassifier\n"
      ],
      "execution_count": 2,
      "outputs": []
    },
    {
      "cell_type": "code",
      "metadata": {
        "id": "1XlGddSSxXiO"
      },
      "source": [
        "base_path = \"/content/drive/MyDrive/Colab Notebooks/ml-ids-colab\""
      ],
      "execution_count": 3,
      "outputs": []
    },
    {
      "cell_type": "code",
      "metadata": {
        "id": "yeLiwQKmMHlL"
      },
      "source": [
        "combined_csv = pd.read_csv(base_path + '/combined_data.csv').drop(['Unnamed: 0'], axis = 1)"
      ],
      "execution_count": 4,
      "outputs": []
    },
    {
      "cell_type": "code",
      "metadata": {
        "colab": {
          "base_uri": "https://localhost:8080/"
        },
        "id": "7WUznOL_WJxk",
        "outputId": "13b6ef2f-b905-41d4-b398-1204113b8263"
      },
      "source": [
        "print(combined_csv.shape)\n"
      ],
      "execution_count": 5,
      "outputs": [
        {
          "output_type": "stream",
          "text": [
            "(2830743, 79)\n"
          ],
          "name": "stdout"
        }
      ]
    },
    {
      "cell_type": "code",
      "metadata": {
        "id": "56Shj3PFWcYv",
        "colab": {
          "base_uri": "https://localhost:8080/",
          "height": 52
        },
        "outputId": "551f2395-f501-4806-9d68-03b5234e72cb"
      },
      "source": [
        "'''\n",
        "os.chdir(\"/home/camila/workspace/ml-ids\")\n",
        "extension = 'csv'\n",
        "all_filenames = [i for i in glob.glob('*.{}'.format(extension))]\n",
        "print(all_filenames)\n",
        "'''"
      ],
      "execution_count": null,
      "outputs": [
        {
          "output_type": "execute_result",
          "data": {
            "application/vnd.google.colaboratory.intrinsic+json": {
              "type": "string"
            },
            "text/plain": [
              "'\\nos.chdir(\"/home/camila/workspace/ml-ids\")\\nextension = \\'csv\\'\\nall_filenames = [i for i in glob.glob(\\'*.{}\\'.format(extension))]\\nprint(all_filenames)\\n'"
            ]
          },
          "metadata": {
            "tags": []
          },
          "execution_count": 5
        }
      ]
    },
    {
      "cell_type": "code",
      "metadata": {
        "id": "HuzGXy4BWc59",
        "colab": {
          "base_uri": "https://localhost:8080/",
          "height": 52
        },
        "outputId": "e0623ecc-6054-4bc1-b897-5d4673b5b8c6"
      },
      "source": [
        "'''\n",
        "combined_csv = pd.concat([pd.read_csv(f) for f in all_filenames ])\n",
        "combined_csv.to_csv( \"combined_csv.csv\", index=False, encoding='utf-8-sig')\n",
        "'''"
      ],
      "execution_count": null,
      "outputs": [
        {
          "output_type": "execute_result",
          "data": {
            "application/vnd.google.colaboratory.intrinsic+json": {
              "type": "string"
            },
            "text/plain": [
              "'\\ncombined_csv = pd.concat([pd.read_csv(f) for f in all_filenames ])\\ncombined_csv.to_csv( \"combined_csv.csv\", index=False, encoding=\\'utf-8-sig\\')\\n'"
            ]
          },
          "metadata": {
            "tags": []
          },
          "execution_count": 6
        }
      ]
    },
    {
      "cell_type": "code",
      "metadata": {
        "id": "mDYEdJodWfO0"
      },
      "source": [
        "combined_csv = combined_csv.rename(columns=str.lower)\n",
        "combined_csv.columns = combined_csv.columns.str.lstrip()\n",
        "combined_csv.columns = combined_csv.columns.str.replace(' ','_')"
      ],
      "execution_count": 6,
      "outputs": []
    },
    {
      "cell_type": "code",
      "metadata": {
        "colab": {
          "base_uri": "https://localhost:8080/",
          "height": 224
        },
        "id": "mOJjmyJ_Wlna",
        "outputId": "913c4572-a03a-4f51-c73c-87ea11d38184"
      },
      "source": [
        "combined_csv.head(5)"
      ],
      "execution_count": null,
      "outputs": [
        {
          "output_type": "execute_result",
          "data": {
            "text/html": [
              "<div>\n",
              "<style scoped>\n",
              "    .dataframe tbody tr th:only-of-type {\n",
              "        vertical-align: middle;\n",
              "    }\n",
              "\n",
              "    .dataframe tbody tr th {\n",
              "        vertical-align: top;\n",
              "    }\n",
              "\n",
              "    .dataframe thead th {\n",
              "        text-align: right;\n",
              "    }\n",
              "</style>\n",
              "<table border=\"1\" class=\"dataframe\">\n",
              "  <thead>\n",
              "    <tr style=\"text-align: right;\">\n",
              "      <th></th>\n",
              "      <th>destination_port</th>\n",
              "      <th>flow_duration</th>\n",
              "      <th>total_fwd_packets</th>\n",
              "      <th>total_backward_packets</th>\n",
              "      <th>total_length_of_fwd_packets</th>\n",
              "      <th>total_length_of_bwd_packets</th>\n",
              "      <th>fwd_packet_length_max</th>\n",
              "      <th>fwd_packet_length_min</th>\n",
              "      <th>fwd_packet_length_mean</th>\n",
              "      <th>fwd_packet_length_std</th>\n",
              "      <th>bwd_packet_length_max</th>\n",
              "      <th>bwd_packet_length_min</th>\n",
              "      <th>bwd_packet_length_mean</th>\n",
              "      <th>bwd_packet_length_std</th>\n",
              "      <th>flow_bytes/s</th>\n",
              "      <th>flow_packets/s</th>\n",
              "      <th>flow_iat_mean</th>\n",
              "      <th>flow_iat_std</th>\n",
              "      <th>flow_iat_max</th>\n",
              "      <th>flow_iat_min</th>\n",
              "      <th>fwd_iat_total</th>\n",
              "      <th>fwd_iat_mean</th>\n",
              "      <th>fwd_iat_std</th>\n",
              "      <th>fwd_iat_max</th>\n",
              "      <th>fwd_iat_min</th>\n",
              "      <th>bwd_iat_total</th>\n",
              "      <th>bwd_iat_mean</th>\n",
              "      <th>bwd_iat_std</th>\n",
              "      <th>bwd_iat_max</th>\n",
              "      <th>bwd_iat_min</th>\n",
              "      <th>fwd_psh_flags</th>\n",
              "      <th>bwd_psh_flags</th>\n",
              "      <th>fwd_urg_flags</th>\n",
              "      <th>bwd_urg_flags</th>\n",
              "      <th>fwd_header_length</th>\n",
              "      <th>bwd_header_length</th>\n",
              "      <th>fwd_packets/s</th>\n",
              "      <th>bwd_packets/s</th>\n",
              "      <th>min_packet_length</th>\n",
              "      <th>max_packet_length</th>\n",
              "      <th>packet_length_mean</th>\n",
              "      <th>packet_length_std</th>\n",
              "      <th>packet_length_variance</th>\n",
              "      <th>fin_flag_count</th>\n",
              "      <th>syn_flag_count</th>\n",
              "      <th>rst_flag_count</th>\n",
              "      <th>psh_flag_count</th>\n",
              "      <th>ack_flag_count</th>\n",
              "      <th>urg_flag_count</th>\n",
              "      <th>cwe_flag_count</th>\n",
              "      <th>ece_flag_count</th>\n",
              "      <th>down/up_ratio</th>\n",
              "      <th>average_packet_size</th>\n",
              "      <th>avg_fwd_segment_size</th>\n",
              "      <th>avg_bwd_segment_size</th>\n",
              "      <th>fwd_header_length.1</th>\n",
              "      <th>fwd_avg_bytes/bulk</th>\n",
              "      <th>fwd_avg_packets/bulk</th>\n",
              "      <th>fwd_avg_bulk_rate</th>\n",
              "      <th>bwd_avg_bytes/bulk</th>\n",
              "      <th>bwd_avg_packets/bulk</th>\n",
              "      <th>bwd_avg_bulk_rate</th>\n",
              "      <th>subflow_fwd_packets</th>\n",
              "      <th>subflow_fwd_bytes</th>\n",
              "      <th>subflow_bwd_packets</th>\n",
              "      <th>subflow_bwd_bytes</th>\n",
              "      <th>init_win_bytes_forward</th>\n",
              "      <th>init_win_bytes_backward</th>\n",
              "      <th>act_data_pkt_fwd</th>\n",
              "      <th>min_seg_size_forward</th>\n",
              "      <th>active_mean</th>\n",
              "      <th>active_std</th>\n",
              "      <th>active_max</th>\n",
              "      <th>active_min</th>\n",
              "      <th>idle_mean</th>\n",
              "      <th>idle_std</th>\n",
              "      <th>idle_max</th>\n",
              "      <th>idle_min</th>\n",
              "      <th>label</th>\n",
              "    </tr>\n",
              "  </thead>\n",
              "  <tbody>\n",
              "    <tr>\n",
              "      <th>0</th>\n",
              "      <td>88</td>\n",
              "      <td>640</td>\n",
              "      <td>7</td>\n",
              "      <td>4</td>\n",
              "      <td>440</td>\n",
              "      <td>358</td>\n",
              "      <td>220</td>\n",
              "      <td>0</td>\n",
              "      <td>62.857143</td>\n",
              "      <td>107.349008</td>\n",
              "      <td>179</td>\n",
              "      <td>0</td>\n",
              "      <td>89.5</td>\n",
              "      <td>103.345698</td>\n",
              "      <td>1246875.000</td>\n",
              "      <td>17187.500000</td>\n",
              "      <td>64.000000</td>\n",
              "      <td>135.557286</td>\n",
              "      <td>445</td>\n",
              "      <td>1</td>\n",
              "      <td>640</td>\n",
              "      <td>106.666667</td>\n",
              "      <td>194.325157</td>\n",
              "      <td>497</td>\n",
              "      <td>1</td>\n",
              "      <td>538</td>\n",
              "      <td>179.333333</td>\n",
              "      <td>303.686242</td>\n",
              "      <td>530</td>\n",
              "      <td>4</td>\n",
              "      <td>0</td>\n",
              "      <td>0</td>\n",
              "      <td>0</td>\n",
              "      <td>0</td>\n",
              "      <td>164</td>\n",
              "      <td>104</td>\n",
              "      <td>10937.500000</td>\n",
              "      <td>6250.000000</td>\n",
              "      <td>0</td>\n",
              "      <td>220</td>\n",
              "      <td>66.500000</td>\n",
              "      <td>99.001837</td>\n",
              "      <td>9801.363636</td>\n",
              "      <td>0</td>\n",
              "      <td>0</td>\n",
              "      <td>0</td>\n",
              "      <td>1</td>\n",
              "      <td>0</td>\n",
              "      <td>0</td>\n",
              "      <td>0</td>\n",
              "      <td>0</td>\n",
              "      <td>0</td>\n",
              "      <td>72.545455</td>\n",
              "      <td>62.857143</td>\n",
              "      <td>89.5</td>\n",
              "      <td>164</td>\n",
              "      <td>0</td>\n",
              "      <td>0</td>\n",
              "      <td>0</td>\n",
              "      <td>0</td>\n",
              "      <td>0</td>\n",
              "      <td>0</td>\n",
              "      <td>7</td>\n",
              "      <td>440</td>\n",
              "      <td>4</td>\n",
              "      <td>358</td>\n",
              "      <td>8192</td>\n",
              "      <td>2053</td>\n",
              "      <td>2</td>\n",
              "      <td>20</td>\n",
              "      <td>0.0</td>\n",
              "      <td>0.0</td>\n",
              "      <td>0</td>\n",
              "      <td>0</td>\n",
              "      <td>0.0</td>\n",
              "      <td>0.0</td>\n",
              "      <td>0</td>\n",
              "      <td>0</td>\n",
              "      <td>BENIGN</td>\n",
              "    </tr>\n",
              "    <tr>\n",
              "      <th>1</th>\n",
              "      <td>88</td>\n",
              "      <td>900</td>\n",
              "      <td>9</td>\n",
              "      <td>4</td>\n",
              "      <td>600</td>\n",
              "      <td>2944</td>\n",
              "      <td>300</td>\n",
              "      <td>0</td>\n",
              "      <td>66.666667</td>\n",
              "      <td>132.287566</td>\n",
              "      <td>1472</td>\n",
              "      <td>0</td>\n",
              "      <td>736.0</td>\n",
              "      <td>849.859596</td>\n",
              "      <td>3937777.778</td>\n",
              "      <td>14444.444440</td>\n",
              "      <td>75.000000</td>\n",
              "      <td>192.795228</td>\n",
              "      <td>684</td>\n",
              "      <td>1</td>\n",
              "      <td>900</td>\n",
              "      <td>112.500000</td>\n",
              "      <td>252.411229</td>\n",
              "      <td>734</td>\n",
              "      <td>1</td>\n",
              "      <td>766</td>\n",
              "      <td>255.333333</td>\n",
              "      <td>435.323251</td>\n",
              "      <td>758</td>\n",
              "      <td>3</td>\n",
              "      <td>0</td>\n",
              "      <td>0</td>\n",
              "      <td>0</td>\n",
              "      <td>0</td>\n",
              "      <td>204</td>\n",
              "      <td>104</td>\n",
              "      <td>10000.000000</td>\n",
              "      <td>4444.444444</td>\n",
              "      <td>0</td>\n",
              "      <td>1472</td>\n",
              "      <td>253.142857</td>\n",
              "      <td>527.434262</td>\n",
              "      <td>278186.901100</td>\n",
              "      <td>0</td>\n",
              "      <td>0</td>\n",
              "      <td>0</td>\n",
              "      <td>1</td>\n",
              "      <td>0</td>\n",
              "      <td>0</td>\n",
              "      <td>0</td>\n",
              "      <td>0</td>\n",
              "      <td>0</td>\n",
              "      <td>272.615385</td>\n",
              "      <td>66.666667</td>\n",
              "      <td>736.0</td>\n",
              "      <td>204</td>\n",
              "      <td>0</td>\n",
              "      <td>0</td>\n",
              "      <td>0</td>\n",
              "      <td>0</td>\n",
              "      <td>0</td>\n",
              "      <td>0</td>\n",
              "      <td>9</td>\n",
              "      <td>600</td>\n",
              "      <td>4</td>\n",
              "      <td>2944</td>\n",
              "      <td>8192</td>\n",
              "      <td>2053</td>\n",
              "      <td>2</td>\n",
              "      <td>20</td>\n",
              "      <td>0.0</td>\n",
              "      <td>0.0</td>\n",
              "      <td>0</td>\n",
              "      <td>0</td>\n",
              "      <td>0.0</td>\n",
              "      <td>0.0</td>\n",
              "      <td>0</td>\n",
              "      <td>0</td>\n",
              "      <td>BENIGN</td>\n",
              "    </tr>\n",
              "    <tr>\n",
              "      <th>2</th>\n",
              "      <td>88</td>\n",
              "      <td>1205</td>\n",
              "      <td>7</td>\n",
              "      <td>4</td>\n",
              "      <td>2776</td>\n",
              "      <td>2830</td>\n",
              "      <td>1388</td>\n",
              "      <td>0</td>\n",
              "      <td>396.571429</td>\n",
              "      <td>677.274651</td>\n",
              "      <td>1415</td>\n",
              "      <td>0</td>\n",
              "      <td>707.5</td>\n",
              "      <td>816.950631</td>\n",
              "      <td>4652282.158</td>\n",
              "      <td>9128.630705</td>\n",
              "      <td>120.500000</td>\n",
              "      <td>236.433336</td>\n",
              "      <td>777</td>\n",
              "      <td>1</td>\n",
              "      <td>1205</td>\n",
              "      <td>200.833333</td>\n",
              "      <td>397.058392</td>\n",
              "      <td>1008</td>\n",
              "      <td>1</td>\n",
              "      <td>927</td>\n",
              "      <td>309.000000</td>\n",
              "      <td>491.647231</td>\n",
              "      <td>876</td>\n",
              "      <td>1</td>\n",
              "      <td>0</td>\n",
              "      <td>0</td>\n",
              "      <td>0</td>\n",
              "      <td>0</td>\n",
              "      <td>164</td>\n",
              "      <td>104</td>\n",
              "      <td>5809.128631</td>\n",
              "      <td>3319.502075</td>\n",
              "      <td>0</td>\n",
              "      <td>1415</td>\n",
              "      <td>467.166667</td>\n",
              "      <td>690.098917</td>\n",
              "      <td>476236.515200</td>\n",
              "      <td>0</td>\n",
              "      <td>0</td>\n",
              "      <td>0</td>\n",
              "      <td>1</td>\n",
              "      <td>0</td>\n",
              "      <td>0</td>\n",
              "      <td>0</td>\n",
              "      <td>0</td>\n",
              "      <td>0</td>\n",
              "      <td>509.636364</td>\n",
              "      <td>396.571429</td>\n",
              "      <td>707.5</td>\n",
              "      <td>164</td>\n",
              "      <td>0</td>\n",
              "      <td>0</td>\n",
              "      <td>0</td>\n",
              "      <td>0</td>\n",
              "      <td>0</td>\n",
              "      <td>0</td>\n",
              "      <td>7</td>\n",
              "      <td>2776</td>\n",
              "      <td>4</td>\n",
              "      <td>2830</td>\n",
              "      <td>8192</td>\n",
              "      <td>2053</td>\n",
              "      <td>2</td>\n",
              "      <td>20</td>\n",
              "      <td>0.0</td>\n",
              "      <td>0.0</td>\n",
              "      <td>0</td>\n",
              "      <td>0</td>\n",
              "      <td>0.0</td>\n",
              "      <td>0.0</td>\n",
              "      <td>0</td>\n",
              "      <td>0</td>\n",
              "      <td>BENIGN</td>\n",
              "    </tr>\n",
              "    <tr>\n",
              "      <th>3</th>\n",
              "      <td>88</td>\n",
              "      <td>511</td>\n",
              "      <td>7</td>\n",
              "      <td>4</td>\n",
              "      <td>452</td>\n",
              "      <td>370</td>\n",
              "      <td>226</td>\n",
              "      <td>0</td>\n",
              "      <td>64.571429</td>\n",
              "      <td>110.276708</td>\n",
              "      <td>185</td>\n",
              "      <td>0</td>\n",
              "      <td>92.5</td>\n",
              "      <td>106.809800</td>\n",
              "      <td>1608610.568</td>\n",
              "      <td>21526.418790</td>\n",
              "      <td>51.100000</td>\n",
              "      <td>90.767652</td>\n",
              "      <td>299</td>\n",
              "      <td>1</td>\n",
              "      <td>511</td>\n",
              "      <td>85.166667</td>\n",
              "      <td>131.900594</td>\n",
              "      <td>349</td>\n",
              "      <td>1</td>\n",
              "      <td>462</td>\n",
              "      <td>154.000000</td>\n",
              "      <td>224.719826</td>\n",
              "      <td>412</td>\n",
              "      <td>1</td>\n",
              "      <td>0</td>\n",
              "      <td>0</td>\n",
              "      <td>0</td>\n",
              "      <td>0</td>\n",
              "      <td>164</td>\n",
              "      <td>104</td>\n",
              "      <td>13698.630140</td>\n",
              "      <td>7827.788650</td>\n",
              "      <td>0</td>\n",
              "      <td>226</td>\n",
              "      <td>68.500000</td>\n",
              "      <td>101.933579</td>\n",
              "      <td>10390.454550</td>\n",
              "      <td>0</td>\n",
              "      <td>0</td>\n",
              "      <td>0</td>\n",
              "      <td>1</td>\n",
              "      <td>0</td>\n",
              "      <td>0</td>\n",
              "      <td>0</td>\n",
              "      <td>0</td>\n",
              "      <td>0</td>\n",
              "      <td>74.727273</td>\n",
              "      <td>64.571429</td>\n",
              "      <td>92.5</td>\n",
              "      <td>164</td>\n",
              "      <td>0</td>\n",
              "      <td>0</td>\n",
              "      <td>0</td>\n",
              "      <td>0</td>\n",
              "      <td>0</td>\n",
              "      <td>0</td>\n",
              "      <td>7</td>\n",
              "      <td>452</td>\n",
              "      <td>4</td>\n",
              "      <td>370</td>\n",
              "      <td>8192</td>\n",
              "      <td>2053</td>\n",
              "      <td>2</td>\n",
              "      <td>20</td>\n",
              "      <td>0.0</td>\n",
              "      <td>0.0</td>\n",
              "      <td>0</td>\n",
              "      <td>0</td>\n",
              "      <td>0.0</td>\n",
              "      <td>0.0</td>\n",
              "      <td>0</td>\n",
              "      <td>0</td>\n",
              "      <td>BENIGN</td>\n",
              "    </tr>\n",
              "    <tr>\n",
              "      <th>4</th>\n",
              "      <td>88</td>\n",
              "      <td>773</td>\n",
              "      <td>9</td>\n",
              "      <td>4</td>\n",
              "      <td>612</td>\n",
              "      <td>2944</td>\n",
              "      <td>306</td>\n",
              "      <td>0</td>\n",
              "      <td>68.000000</td>\n",
              "      <td>134.933317</td>\n",
              "      <td>1472</td>\n",
              "      <td>0</td>\n",
              "      <td>736.0</td>\n",
              "      <td>849.859596</td>\n",
              "      <td>4600258.732</td>\n",
              "      <td>16817.593790</td>\n",
              "      <td>64.416667</td>\n",
              "      <td>148.698266</td>\n",
              "      <td>531</td>\n",
              "      <td>1</td>\n",
              "      <td>773</td>\n",
              "      <td>96.625000</td>\n",
              "      <td>196.665733</td>\n",
              "      <td>580</td>\n",
              "      <td>1</td>\n",
              "      <td>675</td>\n",
              "      <td>225.000000</td>\n",
              "      <td>348.901132</td>\n",
              "      <td>627</td>\n",
              "      <td>1</td>\n",
              "      <td>0</td>\n",
              "      <td>0</td>\n",
              "      <td>0</td>\n",
              "      <td>0</td>\n",
              "      <td>204</td>\n",
              "      <td>104</td>\n",
              "      <td>11642.949550</td>\n",
              "      <td>5174.644243</td>\n",
              "      <td>0</td>\n",
              "      <td>1472</td>\n",
              "      <td>254.000000</td>\n",
              "      <td>527.520762</td>\n",
              "      <td>278278.153800</td>\n",
              "      <td>0</td>\n",
              "      <td>0</td>\n",
              "      <td>0</td>\n",
              "      <td>1</td>\n",
              "      <td>0</td>\n",
              "      <td>0</td>\n",
              "      <td>0</td>\n",
              "      <td>0</td>\n",
              "      <td>0</td>\n",
              "      <td>273.538462</td>\n",
              "      <td>68.000000</td>\n",
              "      <td>736.0</td>\n",
              "      <td>204</td>\n",
              "      <td>0</td>\n",
              "      <td>0</td>\n",
              "      <td>0</td>\n",
              "      <td>0</td>\n",
              "      <td>0</td>\n",
              "      <td>0</td>\n",
              "      <td>9</td>\n",
              "      <td>612</td>\n",
              "      <td>4</td>\n",
              "      <td>2944</td>\n",
              "      <td>8192</td>\n",
              "      <td>2053</td>\n",
              "      <td>2</td>\n",
              "      <td>20</td>\n",
              "      <td>0.0</td>\n",
              "      <td>0.0</td>\n",
              "      <td>0</td>\n",
              "      <td>0</td>\n",
              "      <td>0.0</td>\n",
              "      <td>0.0</td>\n",
              "      <td>0</td>\n",
              "      <td>0</td>\n",
              "      <td>BENIGN</td>\n",
              "    </tr>\n",
              "  </tbody>\n",
              "</table>\n",
              "</div>"
            ],
            "text/plain": [
              "   destination_port  flow_duration  ...  idle_min   label\n",
              "0                88            640  ...         0  BENIGN\n",
              "1                88            900  ...         0  BENIGN\n",
              "2                88           1205  ...         0  BENIGN\n",
              "3                88            511  ...         0  BENIGN\n",
              "4                88            773  ...         0  BENIGN\n",
              "\n",
              "[5 rows x 79 columns]"
            ]
          },
          "metadata": {
            "tags": []
          },
          "execution_count": 6
        }
      ]
    },
    {
      "cell_type": "code",
      "metadata": {
        "colab": {
          "base_uri": "https://localhost:8080/"
        },
        "id": "_BRYdHmdWnQG",
        "outputId": "7cbd2d51-abbf-4ce0-9399-0434551c9340"
      },
      "source": [
        "combined_csv.info()"
      ],
      "execution_count": null,
      "outputs": [
        {
          "output_type": "stream",
          "text": [
            "<class 'pandas.core.frame.DataFrame'>\n",
            "RangeIndex: 2830743 entries, 0 to 2830742\n",
            "Data columns (total 79 columns):\n",
            " #   Column                       Dtype  \n",
            "---  ------                       -----  \n",
            " 0   destination_port             int64  \n",
            " 1   flow_duration                int64  \n",
            " 2   total_fwd_packets            int64  \n",
            " 3   total_backward_packets       int64  \n",
            " 4   total_length_of_fwd_packets  int64  \n",
            " 5   total_length_of_bwd_packets  int64  \n",
            " 6   fwd_packet_length_max        int64  \n",
            " 7   fwd_packet_length_min        int64  \n",
            " 8   fwd_packet_length_mean       float64\n",
            " 9   fwd_packet_length_std        float64\n",
            " 10  bwd_packet_length_max        int64  \n",
            " 11  bwd_packet_length_min        int64  \n",
            " 12  bwd_packet_length_mean       float64\n",
            " 13  bwd_packet_length_std        float64\n",
            " 14  flow_bytes/s                 float64\n",
            " 15  flow_packets/s               float64\n",
            " 16  flow_iat_mean                float64\n",
            " 17  flow_iat_std                 float64\n",
            " 18  flow_iat_max                 int64  \n",
            " 19  flow_iat_min                 int64  \n",
            " 20  fwd_iat_total                int64  \n",
            " 21  fwd_iat_mean                 float64\n",
            " 22  fwd_iat_std                  float64\n",
            " 23  fwd_iat_max                  int64  \n",
            " 24  fwd_iat_min                  int64  \n",
            " 25  bwd_iat_total                int64  \n",
            " 26  bwd_iat_mean                 float64\n",
            " 27  bwd_iat_std                  float64\n",
            " 28  bwd_iat_max                  int64  \n",
            " 29  bwd_iat_min                  int64  \n",
            " 30  fwd_psh_flags                int64  \n",
            " 31  bwd_psh_flags                int64  \n",
            " 32  fwd_urg_flags                int64  \n",
            " 33  bwd_urg_flags                int64  \n",
            " 34  fwd_header_length            int64  \n",
            " 35  bwd_header_length            int64  \n",
            " 36  fwd_packets/s                float64\n",
            " 37  bwd_packets/s                float64\n",
            " 38  min_packet_length            int64  \n",
            " 39  max_packet_length            int64  \n",
            " 40  packet_length_mean           float64\n",
            " 41  packet_length_std            float64\n",
            " 42  packet_length_variance       float64\n",
            " 43  fin_flag_count               int64  \n",
            " 44  syn_flag_count               int64  \n",
            " 45  rst_flag_count               int64  \n",
            " 46  psh_flag_count               int64  \n",
            " 47  ack_flag_count               int64  \n",
            " 48  urg_flag_count               int64  \n",
            " 49  cwe_flag_count               int64  \n",
            " 50  ece_flag_count               int64  \n",
            " 51  down/up_ratio                int64  \n",
            " 52  average_packet_size          float64\n",
            " 53  avg_fwd_segment_size         float64\n",
            " 54  avg_bwd_segment_size         float64\n",
            " 55  fwd_header_length.1          int64  \n",
            " 56  fwd_avg_bytes/bulk           int64  \n",
            " 57  fwd_avg_packets/bulk         int64  \n",
            " 58  fwd_avg_bulk_rate            int64  \n",
            " 59  bwd_avg_bytes/bulk           int64  \n",
            " 60  bwd_avg_packets/bulk         int64  \n",
            " 61  bwd_avg_bulk_rate            int64  \n",
            " 62  subflow_fwd_packets          int64  \n",
            " 63  subflow_fwd_bytes            int64  \n",
            " 64  subflow_bwd_packets          int64  \n",
            " 65  subflow_bwd_bytes            int64  \n",
            " 66  init_win_bytes_forward       int64  \n",
            " 67  init_win_bytes_backward      int64  \n",
            " 68  act_data_pkt_fwd             int64  \n",
            " 69  min_seg_size_forward         int64  \n",
            " 70  active_mean                  float64\n",
            " 71  active_std                   float64\n",
            " 72  active_max                   int64  \n",
            " 73  active_min                   int64  \n",
            " 74  idle_mean                    float64\n",
            " 75  idle_std                     float64\n",
            " 76  idle_max                     int64  \n",
            " 77  idle_min                     int64  \n",
            " 78  label                        object \n",
            "dtypes: float64(24), int64(54), object(1)\n",
            "memory usage: 1.7+ GB\n"
          ],
          "name": "stdout"
        }
      ]
    },
    {
      "cell_type": "code",
      "metadata": {
        "colab": {
          "base_uri": "https://localhost:8080/"
        },
        "id": "x_svc0s5WnS-",
        "outputId": "e309c04e-e56d-4d69-d131-ee141fec7eb9"
      },
      "source": [
        "combined_csv.isnull().any().any()"
      ],
      "execution_count": null,
      "outputs": [
        {
          "output_type": "execute_result",
          "data": {
            "text/plain": [
              "True"
            ]
          },
          "metadata": {
            "tags": []
          },
          "execution_count": 7
        }
      ]
    },
    {
      "cell_type": "code",
      "metadata": {
        "colab": {
          "base_uri": "https://localhost:8080/"
        },
        "id": "mdqNbU2-WnVO",
        "outputId": "f8623b8d-d1d0-4481-e97f-c6eb129986ea"
      },
      "source": [
        "combined_csv = combined_csv.replace([np.inf, -np.inf], np.nan)\n",
        "combined_csv = combined_csv.dropna()\n",
        "combined_csv.isnull().any().any()"
      ],
      "execution_count": 7,
      "outputs": [
        {
          "output_type": "execute_result",
          "data": {
            "text/plain": [
              "False"
            ]
          },
          "metadata": {
            "tags": []
          },
          "execution_count": 7
        }
      ]
    },
    {
      "cell_type": "code",
      "metadata": {
        "colab": {
          "base_uri": "https://localhost:8080/"
        },
        "id": "Jg1hrbmaWnXf",
        "outputId": "9f3c7991-a95a-4f33-f2fa-c40fc5d9f47f"
      },
      "source": [
        "combined_csv['label'].value_counts()"
      ],
      "execution_count": 8,
      "outputs": [
        {
          "output_type": "execute_result",
          "data": {
            "text/plain": [
              "BENIGN                        2271320\n",
              "DoS Hulk                       230124\n",
              "PortScan                       158804\n",
              "DDoS                           128025\n",
              "DoS GoldenEye                   10293\n",
              "FTP-Patator                      7935\n",
              "SSH-Patator                      5897\n",
              "DoS slowloris                    5796\n",
              "DoS Slowhttptest                 5499\n",
              "Bot                              1956\n",
              "Web Attack � Brute Force         1507\n",
              "Web Attack � XSS                  652\n",
              "Infiltration                       36\n",
              "Web Attack � Sql Injection         21\n",
              "Heartbleed                         11\n",
              "Name: label, dtype: int64"
            ]
          },
          "metadata": {
            "tags": []
          },
          "execution_count": 8
        }
      ]
    },
    {
      "cell_type": "code",
      "metadata": {
        "id": "UabM_5LPWz54"
      },
      "source": [
        "combined_csv = combined_csv.replace(['Heartbleed', 'Web Attack � Sql Injection', 'Infiltration'], np.nan)\n",
        "combined_csv = combined_csv.dropna()"
      ],
      "execution_count": 9,
      "outputs": []
    },
    {
      "cell_type": "code",
      "metadata": {
        "id": "F-u2I-A_W0DO"
      },
      "source": [
        "combined_csv[\"label\"] =  combined_csv.label.str.replace('[^\\x00-\\x7F]','')\n",
        "\n",
        "combined_csv[\"label\"] = combined_csv.label.replace('\\s+', ' ', regex=True)"
      ],
      "execution_count": 10,
      "outputs": []
    },
    {
      "cell_type": "code",
      "metadata": {
        "colab": {
          "base_uri": "https://localhost:8080/"
        },
        "id": "A1E18-2kW0Fo",
        "outputId": "6d72c761-6b3a-4f41-eac3-0a9719d75f5c"
      },
      "source": [
        "combined_csv['label'].value_counts()"
      ],
      "execution_count": 11,
      "outputs": [
        {
          "output_type": "execute_result",
          "data": {
            "text/plain": [
              "BENIGN                    2271320\n",
              "DoS Hulk                   230124\n",
              "PortScan                   158804\n",
              "DDoS                       128025\n",
              "DoS GoldenEye               10293\n",
              "FTP-Patator                  7935\n",
              "SSH-Patator                  5897\n",
              "DoS slowloris                5796\n",
              "DoS Slowhttptest             5499\n",
              "Bot                          1956\n",
              "Web Attack Brute Force       1507\n",
              "Web Attack XSS                652\n",
              "Name: label, dtype: int64"
            ]
          },
          "metadata": {
            "tags": []
          },
          "execution_count": 11
        }
      ]
    },
    {
      "cell_type": "code",
      "metadata": {
        "id": "K9SsYeTlW8yw"
      },
      "source": [
        "combined_csv['network_flow'] = np.where(combined_csv['label'] == 'BENIGN', 0, 1)"
      ],
      "execution_count": 12,
      "outputs": []
    },
    {
      "cell_type": "code",
      "metadata": {
        "colab": {
          "base_uri": "https://localhost:8080/"
        },
        "id": "Ip1xSgbmW81d",
        "outputId": "96a53778-0e72-405d-febb-5616f78e28cf"
      },
      "source": [
        "attack_description = {'BENIGN': 'benign', \n",
        "                'DoS Hulk': 'dos',\n",
        "                'PortScan': 'probe', \n",
        "                'DDoS': 'ddos',\n",
        "                'DoS GoldenEye': 'dos', \n",
        "                'FTP-Patator': 'brute_force',\n",
        "                'SSH-Patator': 'brute_force', \n",
        "                'DoS slowloris': 'dos', \n",
        "                'DoS Slowhttptest': 'dos',\n",
        "                'Bot': 'botnet',\n",
        "                'Web Attack Brute Force': 'web_attack', \n",
        "                'Web Attack XSS': 'web_attack'}\n",
        "\n",
        "combined_csv['network_flow_description'] = combined_csv['label'].map(lambda x: attack_description[x])\n",
        "combined_csv['network_flow_description'].value_counts()"
      ],
      "execution_count": 13,
      "outputs": [
        {
          "output_type": "execute_result",
          "data": {
            "text/plain": [
              "benign         2271320\n",
              "dos             251712\n",
              "probe           158804\n",
              "ddos            128025\n",
              "brute_force      13832\n",
              "web_attack        2159\n",
              "botnet            1956\n",
              "Name: network_flow_description, dtype: int64"
            ]
          },
          "metadata": {
            "tags": []
          },
          "execution_count": 13
        }
      ]
    },
    {
      "cell_type": "code",
      "metadata": {
        "id": "Ob7ckLKqW84B",
        "colab": {
          "base_uri": "https://localhost:8080/",
          "height": 311
        },
        "outputId": "4dd346be-269b-4fdf-8a2a-497abf3a69c3"
      },
      "source": [
        "network_flow_counts = combined_csv['network_flow'].value_counts()\n",
        "network_flow_counts.plot(kind='barh', color='#a3c1ad')\n",
        "plt.title('Quantity of bad and good network flow') "
      ],
      "execution_count": 14,
      "outputs": [
        {
          "output_type": "execute_result",
          "data": {
            "text/plain": [
              "Text(0.5, 1.0, 'Quantity of bad and good network flow')"
            ]
          },
          "metadata": {
            "tags": []
          },
          "execution_count": 14
        },
        {
          "output_type": "display_data",
          "data": {
            "image/png": "[encoded data removed]",
            "text/plain": [
              "<Figure size 432x288 with 1 Axes>"
            ]
          },
          "metadata": {
            "tags": [],
            "needs_background": "light"
          }
        }
      ]
    },
    {
      "cell_type": "code",
      "metadata": {
        "id": "c-v_FRPLW86j"
      },
      "source": [
        "#incluir na funcao x\n",
        "labels = ['label', 'network_flow', 'network_flow_description']\n",
        "xs = combined_csv.drop(labels, axis=1) \n",
        "ys = combined_csv[['label', 'network_flow', 'network_flow_description']] \n",
        "\n",
        "x_train, x_temp, y_train, y_temp = train_test_split(xs, ys, test_size=0.4, random_state=1, stratify=ys['label'])\n",
        "x_test, x_validate, y_test, y_validate = train_test_split(x_temp, y_temp, test_size=0.5, random_state=1, stratify=y_temp['label'])"
      ],
      "execution_count": 15,
      "outputs": []
    },
    {
      "cell_type": "code",
      "metadata": {
        "id": "WhQXJWXDW885",
        "colab": {
          "base_uri": "https://localhost:8080/"
        },
        "outputId": "d8ce101b-4845-44c5-da76-57cf7f5d41c9"
      },
      "source": [
        "# incluir em func x\n",
        "min_max_scaler = MinMaxScaler().fit(x_train)\n",
        "\n",
        "x_train = min_max_scaler.transform(x_train)\n",
        "x_validate = min_max_scaler.transform(x_validate)\n",
        "x_test = min_max_scaler.transform(x_test)\n",
        "\n",
        "pd.Series(x_train.flatten()).describe()"
      ],
      "execution_count": 16,
      "outputs": [
        {
          "output_type": "execute_result",
          "data": {
            "text/plain": [
              "count    1.323414e+08\n",
              "mean     8.997153e-02\n",
              "std      2.586398e-01\n",
              "min      0.000000e+00\n",
              "25%      0.000000e+00\n",
              "50%      1.166667e-07\n",
              "75%      4.757337e-03\n",
              "max      1.000000e+00\n",
              "dtype: float64"
            ]
          },
          "metadata": {
            "tags": []
          },
          "execution_count": 16
        }
      ]
    },
    {
      "cell_type": "code",
      "metadata": {
        "id": "UzpUFyk_dLcY",
        "colab": {
          "base_uri": "https://localhost:8080/"
        },
        "outputId": "9799e28a-db67-4da9-9ee7-2a9b1b59cbd7"
      },
      "source": [
        "\n",
        "print(combined_csv.shape)"
      ],
      "execution_count": 17,
      "outputs": [
        {
          "output_type": "stream",
          "text": [
            "(2827808, 81)\n"
          ],
          "name": "stdout"
        }
      ]
    },
    {
      "cell_type": "code",
      "metadata": {
        "id": "La6rpALVeyZe",
        "colab": {
          "base_uri": "https://localhost:8080/"
        },
        "outputId": "cc3f4e02-3e46-447d-ae48-f75ee8a087f8"
      },
      "source": [
        "#menos dadss\n",
        "remove_n = 2799999\n",
        "drop_indices = np.random.choice(combined_csv.index, remove_n, replace=False)\n",
        "combined_csv2 = combined_csv.drop(drop_indices)\n",
        "print(combined_csv2.shape) "
      ],
      "execution_count": 18,
      "outputs": [
        {
          "output_type": "stream",
          "text": [
            "(27809, 81)\n"
          ],
          "name": "stdout"
        }
      ]
    },
    {
      "cell_type": "code",
      "metadata": {
        "id": "l7eIk5kLx3bL"
      },
      "source": [
        "\n",
        "#com dataset menor\n",
        "labels = ['label', 'network_flow', 'network_flow_description']\n",
        "xs = combined_csv2.drop(labels, axis=1) \n",
        "ys = combined_csv2[['label', 'network_flow', 'network_flow_description']] \n",
        "\n",
        "x_train, x_temp, y_train, y_temp = train_test_split(xs, ys, test_size=0.4, random_state=1, stratify=ys['label'])\n",
        "x_test, x_validate, y_test, y_validate = train_test_split(x_temp, y_temp, test_size=0.5, random_state=1, stratify=y_temp['label'])"
      ],
      "execution_count": 19,
      "outputs": []
    },
    {
      "cell_type": "code",
      "metadata": {
        "id": "0mskx-R-Qz_d",
        "colab": {
          "base_uri": "https://localhost:8080/"
        },
        "outputId": "5634ea3d-2686-4057-a706-d0a4c883338e"
      },
      "source": [
        "'''\n",
        "com dataset menor\n",
        "min_max_scaler = MinMaxScaler().fit(x_train)\n",
        "\n",
        "x_train = min_max_scaler.transform(x_train)\n",
        "x_validate = min_max_scaler.transform(x_validate)\n",
        "x_test = min_max_scaler.transform(x_test)\n",
        "\n",
        "pd.Series(x_train.flatten()).describe()"
      ],
      "execution_count": null,
      "outputs": [
        {
          "output_type": "execute_result",
          "data": {
            "text/plain": [
              "count    1.301430e+06\n",
              "mean     5.119284e-02\n",
              "std      1.645799e-01\n",
              "min      0.000000e+00\n",
              "25%      0.000000e+00\n",
              "50%      4.155663e-08\n",
              "75%      3.498950e-03\n",
              "max      1.000000e+00\n",
              "dtype: float64"
            ]
          },
          "metadata": {
            "tags": []
          },
          "execution_count": 35
        }
      ]
    },
    {
      "cell_type": "code",
      "metadata": {
        "id": "lT0ovyeLX2sB"
      },
      "source": [
        ""
      ],
      "execution_count": null,
      "outputs": []
    },
    {
      "cell_type": "code",
      "metadata": {
        "id": "hsc95xRAXRNe"
      },
      "source": [
        "# importance weights with sklearn-RandomForestRegressor\n",
        "import time\n",
        "seconds = time.time()\n",
        "clft_toget_importance_weights = sk.ensemble.RandomForestRegressor(n_estimators=250,random_state=0)\n",
        "clft_toget_importance_weights.fit(x_train, y_train.network_flow)\n",
        "\n",
        "with open('/content/drive/MyDrive/Colab Notebooks/ml-ids-colab/get_weights_pickle', 'wb') as f:\n",
        "  pickle.dump(clft_toget_importance_weights, f)"
      ],
      "execution_count": null,
      "outputs": []
    },
    {
      "cell_type": "code",
      "metadata": {
        "colab": {
          "base_uri": "https://localhost:8080/"
        },
        "id": "rfEf833erAMa",
        "outputId": "6b2ae9ae-10f7-4550-ac45-c0ef04d731cd"
      },
      "source": [
        "with open('/content/drive/MyDrive/Colab Notebooks/ml-ids-colab/get_weights_pickle', 'rb') as f:\n",
        "  get_weights_pickle_loaded = pickle.load(f)\n",
        "\n",
        "values_importances = get_weights_pickle_loaded.feature_importances_\n",
        "print(values_importances)"
      ],
      "execution_count": null,
      "outputs": [
        {
          "output_type": "stream",
          "text": [
            "[1.55478136e-01 8.81884446e-04 4.38907707e-04 1.33694212e-04\n",
            " 6.57876569e-04 1.59114076e-04 3.76808690e-03 4.63032623e-04\n",
            " 1.04371550e-04 9.46030643e-04 7.54887102e-04 4.17561371e-04\n",
            " 1.24379714e-03 3.77049831e-01 1.17201402e-03 2.84521012e-03\n",
            " 1.60519051e-03 1.40481202e-03 8.56566811e-04 5.55928630e-03\n",
            " 4.69176660e-04 3.81596101e-03 1.88875236e-04 7.98976279e-04\n",
            " 9.70795461e-04 5.66690911e-05 1.04452771e-03 2.00143270e-03\n",
            " 8.33242292e-05 1.18271350e-03 3.01448289e-04 0.00000000e+00\n",
            " 1.17824117e-07 0.00000000e+00 8.77236049e-07 6.85971902e-06\n",
            " 3.62288711e-03 1.82835254e-03 3.14688814e-04 1.78328768e-04\n",
            " 1.49582292e-03 6.27324196e-02 6.20984468e-04 4.07692159e-05\n",
            " 2.83912268e-04 7.33487698e-08 2.88863257e-03 1.92229854e-02\n",
            " 7.36253846e-04 0.00000000e+00 2.94956500e-08 2.40266086e-04\n",
            " 1.95834407e-01 9.20975945e-05 1.32915824e-03 1.24156632e-06\n",
            " 0.00000000e+00 0.00000000e+00 0.00000000e+00 0.00000000e+00\n",
            " 0.00000000e+00 0.00000000e+00 4.28042479e-04 6.65622207e-04\n",
            " 1.03923138e-04 1.56678016e-04 2.66950871e-02 1.10405659e-01\n",
            " 7.52742108e-04 0.00000000e+00 3.67519011e-05 2.15378880e-03\n",
            " 2.70911663e-05 2.65945063e-05 4.55785972e-05 6.12645625e-05\n",
            " 4.42580936e-05 7.15613280e-05]\n"
          ],
          "name": "stdout"
        }
      ]
    },
    {
      "cell_type": "code",
      "metadata": {
        "id": "an82Z6c-QYuJ",
        "colab": {
          "base_uri": "https://localhost:8080/",
          "height": 545
        },
        "outputId": "4cbf2c46-1262-4099-e6eb-b29d03cbaa93"
      },
      "source": [
        "names_col = list(combined_csv.columns.values)[0:78] #[::-1]\n",
        "features_values_importance = pd.DataFrame({'Features':names_col[0:15],'importance':values_importances[0:15]})\n",
        "features_values_importance = features_values_importance.sort_values('importance',ascending=False).set_index('Features')"
      ],
      "execution_count": null,
      "outputs": [
        {
          "output_type": "execute_result",
          "data": {
            "text/html": [
              "<div>\n",
              "<style scoped>\n",
              "    .dataframe tbody tr th:only-of-type {\n",
              "        vertical-align: middle;\n",
              "    }\n",
              "\n",
              "    .dataframe tbody tr th {\n",
              "        vertical-align: top;\n",
              "    }\n",
              "\n",
              "    .dataframe thead th {\n",
              "        text-align: right;\n",
              "    }\n",
              "</style>\n",
              "<table border=\"1\" class=\"dataframe\">\n",
              "  <thead>\n",
              "    <tr style=\"text-align: right;\">\n",
              "      <th></th>\n",
              "      <th>importance</th>\n",
              "    </tr>\n",
              "    <tr>\n",
              "      <th>Features</th>\n",
              "      <th></th>\n",
              "    </tr>\n",
              "  </thead>\n",
              "  <tbody>\n",
              "    <tr>\n",
              "      <th>bwd_packet_length_std</th>\n",
              "      <td>0.377050</td>\n",
              "    </tr>\n",
              "    <tr>\n",
              "      <th>destination_port</th>\n",
              "      <td>0.155478</td>\n",
              "    </tr>\n",
              "    <tr>\n",
              "      <th>fwd_packet_length_max</th>\n",
              "      <td>0.003768</td>\n",
              "    </tr>\n",
              "    <tr>\n",
              "      <th>bwd_packet_length_mean</th>\n",
              "      <td>0.001244</td>\n",
              "    </tr>\n",
              "    <tr>\n",
              "      <th>flow_bytes/s</th>\n",
              "      <td>0.001172</td>\n",
              "    </tr>\n",
              "    <tr>\n",
              "      <th>fwd_packet_length_std</th>\n",
              "      <td>0.000946</td>\n",
              "    </tr>\n",
              "    <tr>\n",
              "      <th>flow_duration</th>\n",
              "      <td>0.000882</td>\n",
              "    </tr>\n",
              "    <tr>\n",
              "      <th>bwd_packet_length_max</th>\n",
              "      <td>0.000755</td>\n",
              "    </tr>\n",
              "    <tr>\n",
              "      <th>total_length_of_fwd_packets</th>\n",
              "      <td>0.000658</td>\n",
              "    </tr>\n",
              "    <tr>\n",
              "      <th>fwd_packet_length_min</th>\n",
              "      <td>0.000463</td>\n",
              "    </tr>\n",
              "    <tr>\n",
              "      <th>total_fwd_packets</th>\n",
              "      <td>0.000439</td>\n",
              "    </tr>\n",
              "    <tr>\n",
              "      <th>bwd_packet_length_min</th>\n",
              "      <td>0.000418</td>\n",
              "    </tr>\n",
              "    <tr>\n",
              "      <th>total_length_of_bwd_packets</th>\n",
              "      <td>0.000159</td>\n",
              "    </tr>\n",
              "    <tr>\n",
              "      <th>total_backward_packets</th>\n",
              "      <td>0.000134</td>\n",
              "    </tr>\n",
              "    <tr>\n",
              "      <th>fwd_packet_length_mean</th>\n",
              "      <td>0.000104</td>\n",
              "    </tr>\n",
              "  </tbody>\n",
              "</table>\n",
              "</div>"
            ],
            "text/plain": [
              "                             importance\n",
              "Features                               \n",
              "bwd_packet_length_std          0.377050\n",
              "destination_port               0.155478\n",
              "fwd_packet_length_max          0.003768\n",
              "bwd_packet_length_mean         0.001244\n",
              "flow_bytes/s                   0.001172\n",
              "fwd_packet_length_std          0.000946\n",
              "flow_duration                  0.000882\n",
              "bwd_packet_length_max          0.000755\n",
              "total_length_of_fwd_packets    0.000658\n",
              "fwd_packet_length_min          0.000463\n",
              "total_fwd_packets              0.000439\n",
              "bwd_packet_length_min          0.000418\n",
              "total_length_of_bwd_packets    0.000159\n",
              "total_backward_packets         0.000134\n",
              "fwd_packet_length_mean         0.000104"
            ]
          },
          "metadata": {
            "tags": []
          },
          "execution_count": 37
        }
      ]
    },
    {
      "cell_type": "code",
      "metadata": {
        "id": "k5SdMByNb27I",
        "colab": {
          "base_uri": "https://localhost:8080/",
          "height": 776
        },
        "outputId": "0f3cf375-6141-4fd1-93e7-264838d04fba"
      },
      "source": [
        "plt.style.use('ggplot')\n",
        "plt.rcParams['figure.figsize'] = (20, 10)\n",
        "features_values_importance.plot.bar();\n",
        "plt.title('Feature Importance')\n",
        "plt.ylabel('Importance')"
      ],
      "execution_count": null,
      "outputs": [
        {
          "output_type": "execute_result",
          "data": {
            "text/plain": [
              "Text(0, 0.5, 'Importance')"
            ]
          },
          "metadata": {
            "tags": []
          },
          "execution_count": 52
        },
        {
          "output_type": "display_data",
          "data": {
            "image/png": "[encoded data removed]",
            "text/plain": [
              "<Figure size 1440x720 with 1 Axes>"
            ]
          },
          "metadata": {
            "tags": []
          }
        }
      ]
    },
    {
      "cell_type": "code",
      "metadata": {
        "id": "8orE-iseXRSs",
        "colab": {
          "base_uri": "https://localhost:8080/",
          "height": 204
        },
        "outputId": "bddffcf8-646b-457e-bb09-47cfafb58d29"
      },
      "source": [
        "#9\n",
        "def keep_cols(df, to_keep):\n",
        "\n",
        "    to_drop = list(set(list(df)) - set(to_keep))\n",
        "    return df.drop(to_drop, axis = 1)\n",
        "\n",
        "features_to_use = combined_csv2.pipe(keep_cols, ['bwd_packet_length_std\t', 'destination_port', \n",
        "                                                     'fwd_packet_length_max', 'bwd_packet_length_mean', 'flow_bytes/s', 'fwd_packet_length_std', 'flow_duration', 'bwd_packet_length_max', 'total_length_of_fwd_packets','label'])\n",
        "features_to_use.head()"
      ],
      "execution_count": 20,
      "outputs": [
        {
          "output_type": "execute_result",
          "data": {
            "text/html": [
              "<div>\n",
              "<style scoped>\n",
              "    .dataframe tbody tr th:only-of-type {\n",
              "        vertical-align: middle;\n",
              "    }\n",
              "\n",
              "    .dataframe tbody tr th {\n",
              "        vertical-align: top;\n",
              "    }\n",
              "\n",
              "    .dataframe thead th {\n",
              "        text-align: right;\n",
              "    }\n",
              "</style>\n",
              "<table border=\"1\" class=\"dataframe\">\n",
              "  <thead>\n",
              "    <tr style=\"text-align: right;\">\n",
              "      <th></th>\n",
              "      <th>destination_port</th>\n",
              "      <th>flow_duration</th>\n",
              "      <th>total_length_of_fwd_packets</th>\n",
              "      <th>fwd_packet_length_max</th>\n",
              "      <th>fwd_packet_length_std</th>\n",
              "      <th>bwd_packet_length_max</th>\n",
              "      <th>bwd_packet_length_mean</th>\n",
              "      <th>flow_bytes/s</th>\n",
              "      <th>label</th>\n",
              "    </tr>\n",
              "  </thead>\n",
              "  <tbody>\n",
              "    <tr>\n",
              "      <th>3</th>\n",
              "      <td>88</td>\n",
              "      <td>511</td>\n",
              "      <td>452</td>\n",
              "      <td>226</td>\n",
              "      <td>110.276708</td>\n",
              "      <td>185</td>\n",
              "      <td>92.50</td>\n",
              "      <td>1.608611e+06</td>\n",
              "      <td>BENIGN</td>\n",
              "    </tr>\n",
              "    <tr>\n",
              "      <th>67</th>\n",
              "      <td>88</td>\n",
              "      <td>914</td>\n",
              "      <td>3130</td>\n",
              "      <td>1565</td>\n",
              "      <td>690.100134</td>\n",
              "      <td>1524</td>\n",
              "      <td>508.00</td>\n",
              "      <td>6.759300e+06</td>\n",
              "      <td>BENIGN</td>\n",
              "    </tr>\n",
              "    <tr>\n",
              "      <th>130</th>\n",
              "      <td>88</td>\n",
              "      <td>1035</td>\n",
              "      <td>3064</td>\n",
              "      <td>1532</td>\n",
              "      <td>675.548501</td>\n",
              "      <td>1495</td>\n",
              "      <td>373.75</td>\n",
              "      <td>5.849275e+06</td>\n",
              "      <td>BENIGN</td>\n",
              "    </tr>\n",
              "    <tr>\n",
              "      <th>382</th>\n",
              "      <td>123</td>\n",
              "      <td>71082592</td>\n",
              "      <td>384</td>\n",
              "      <td>48</td>\n",
              "      <td>0.000000</td>\n",
              "      <td>48</td>\n",
              "      <td>48.00</td>\n",
              "      <td>1.080433e+01</td>\n",
              "      <td>BENIGN</td>\n",
              "    </tr>\n",
              "    <tr>\n",
              "      <th>596</th>\n",
              "      <td>443</td>\n",
              "      <td>5331378</td>\n",
              "      <td>356</td>\n",
              "      <td>199</td>\n",
              "      <td>76.153979</td>\n",
              "      <td>1791</td>\n",
              "      <td>698.60</td>\n",
              "      <td>7.219522e+02</td>\n",
              "      <td>BENIGN</td>\n",
              "    </tr>\n",
              "  </tbody>\n",
              "</table>\n",
              "</div>"
            ],
            "text/plain": [
              "     destination_port  flow_duration  ...  flow_bytes/s   label\n",
              "3                  88            511  ...  1.608611e+06  BENIGN\n",
              "67                 88            914  ...  6.759300e+06  BENIGN\n",
              "130                88           1035  ...  5.849275e+06  BENIGN\n",
              "382               123       71082592  ...  1.080433e+01  BENIGN\n",
              "596               443        5331378  ...  7.219522e+02  BENIGN\n",
              "\n",
              "[5 rows x 9 columns]"
            ]
          },
          "metadata": {
            "tags": []
          },
          "execution_count": 20
        }
      ]
    },
    {
      "cell_type": "code",
      "metadata": {
        "id": "P6f2DC0_XRVp"
      },
      "source": [
        "x = features_to_use.iloc[:,0:7].values\n",
        "y = features_to_use.iloc[:, 8].values #label"
      ],
      "execution_count": 21,
      "outputs": []
    },
    {
      "cell_type": "code",
      "metadata": {
        "id": "eJkBNzicXRbE",
        "colab": {
          "base_uri": "https://localhost:8080/"
        },
        "outputId": "67d7b641-07f7-4e0f-f800-c6142c372180"
      },
      "source": [
        "scaler = MinMaxScaler()\n",
        "scaler.fit_transform(x)\n",
        "pd.Series(x.flatten()).describe()"
      ],
      "execution_count": 22,
      "outputs": [
        {
          "output_type": "execute_result",
          "data": {
            "text/plain": [
              "count    1.946630e+05\n",
              "mean     2.122700e+06\n",
              "std      1.377988e+07\n",
              "min     -1.000000e+00\n",
              "25%      6.000000e+00\n",
              "50%      6.400000e+01\n",
              "75%      4.113289e+02\n",
              "max      1.200000e+08\n",
              "dtype: float64"
            ]
          },
          "metadata": {
            "tags": []
          },
          "execution_count": 22
        }
      ]
    },
    {
      "cell_type": "code",
      "metadata": {
        "id": "7RqSk3sBXRdq"
      },
      "source": [
        "kfold = KFold(n_splits=5, shuffle=True, random_state=42)\n",
        "\n",
        "modelos = [LogisticRegression(solver='liblinear'), RandomForestClassifier(n_estimators=400, random_state=42), \n",
        "          DecisionTreeClassifier(random_state=42), svm.SVC(kernel='rbf', gamma='scale', random_state=42), \n",
        "          KNeighborsClassifier()]"
      ],
      "execution_count": 23,
      "outputs": []
    },
    {
      "cell_type": "code",
      "metadata": {
        "id": "_IAq4hdIXRgE"
      },
      "source": [
        "mean=[]\n",
        "std=[]\n",
        "for model in modelos:\n",
        "    result = cross_val_score(model, x, y, cv=kfold, scoring=\"accuracy\", n_jobs=-1)\n",
        "    mean.append(result)\n",
        "    std.append(result)\n",
        "\n",
        "metricas = {\"mean\": mean, \"std\": std}\n",
        "\n",
        "with open('/content/drive/MyDrive/Colab Notebooks/ml-ids-colab/metricas_pickle', 'wb') as f:\n",
        "  pickle.dump(metricas, f)"
      ],
      "execution_count": 24,
      "outputs": []
    },
    {
      "cell_type": "code",
      "metadata": {
        "id": "A9qzdB17XRi_"
      },
      "source": [
        "with open('/content/drive/MyDrive/Colab Notebooks/ml-ids-colab/metricas_pickle', 'rb') as f:\n",
        "  metricas_pickle = pickle.load(f)\n",
        "\n",
        "mean = metricas_pickle[\"mean\"] #.get(\"metricas\") nao mostra o erro \n",
        "std = metricas_pickle[\"std\"]"
      ],
      "execution_count": 26,
      "outputs": []
    },
    {
      "cell_type": "code",
      "metadata": {
        "id": "MJj5p1GiXRlc",
        "colab": {
          "base_uri": "https://localhost:8080/"
        },
        "outputId": "ec8b0019-2fea-4fa1-84f3-b4349ebcb20a"
      },
      "source": [
        "print(mean)"
      ],
      "execution_count": 27,
      "outputs": [
        {
          "output_type": "stream",
          "text": [
            "[array([0.85904351, 0.85580726, 0.85616685, 0.85257102, 0.85901816]), array([0.98975189, 0.99029126, 0.99011147, 0.99208918, 0.99028952]), array([0.9893923 , 0.98651564, 0.98903272, 0.98867314, 0.98741234]), array([0.8425027 , 0.83477166, 0.84591873, 0.83225458, 0.84337349]), array([0.90255304, 0.90093492, 0.90453074, 0.90165408, 0.89768027])]\n"
          ],
          "name": "stdout"
        }
      ]
    },
    {
      "cell_type": "code",
      "metadata": {
        "colab": {
          "base_uri": "https://localhost:8080/",
          "height": 829
        },
        "id": "EOOuqhG9DB8R",
        "outputId": "096f1a72-c667-4e30-aa48-a377727732a8"
      },
      "source": [
        "classificadores=['Regressão Logística', 'Random Forest', 'Árvore de Decisão', 'SVM', 'KNN']\n",
        "\n",
        "plt.figure(figsize=(10, 10))\n",
        "for i in range(len(mean)):\n",
        "    sns.distplot(mean[i], hist=False, kde_kws={\"shade\": True})\n",
        "    \n",
        "plt.title(\"Distribuição de cada um dos classificadores\", fontsize=15)\n",
        "plt.legend(classificadores)\n",
        "plt.xlabel(\"Acurácia\", labelpad=20)\n",
        "plt.yticks([])\n",
        "\n",
        "plt.show()"
      ],
      "execution_count": 28,
      "outputs": [
        {
          "output_type": "stream",
          "text": [
            "/usr/local/lib/python3.7/dist-packages/seaborn/distributions.py:2557: FutureWarning: `distplot` is a deprecated function and will be removed in a future version. Please adapt your code to use either `displot` (a figure-level function with similar flexibility) or `kdeplot` (an axes-level function for kernel density plots).\n",
            "  warnings.warn(msg, FutureWarning)\n",
            "/usr/local/lib/python3.7/dist-packages/seaborn/distributions.py:2557: FutureWarning: `distplot` is a deprecated function and will be removed in a future version. Please adapt your code to use either `displot` (a figure-level function with similar flexibility) or `kdeplot` (an axes-level function for kernel density plots).\n",
            "  warnings.warn(msg, FutureWarning)\n",
            "/usr/local/lib/python3.7/dist-packages/seaborn/distributions.py:2557: FutureWarning: `distplot` is a deprecated function and will be removed in a future version. Please adapt your code to use either `displot` (a figure-level function with similar flexibility) or `kdeplot` (an axes-level function for kernel density plots).\n",
            "  warnings.warn(msg, FutureWarning)\n",
            "/usr/local/lib/python3.7/dist-packages/seaborn/distributions.py:2557: FutureWarning: `distplot` is a deprecated function and will be removed in a future version. Please adapt your code to use either `displot` (a figure-level function with similar flexibility) or `kdeplot` (an axes-level function for kernel density plots).\n",
            "  warnings.warn(msg, FutureWarning)\n",
            "/usr/local/lib/python3.7/dist-packages/seaborn/distributions.py:2557: FutureWarning: `distplot` is a deprecated function and will be removed in a future version. Please adapt your code to use either `displot` (a figure-level function with similar flexibility) or `kdeplot` (an axes-level function for kernel density plots).\n",
            "  warnings.warn(msg, FutureWarning)\n"
          ],
          "name": "stderr"
        },
        {
          "output_type": "display_data",
          "data": {
            "image/png": "[encoded data removed]",
            "text/plain": [
              "<Figure size 720x720 with 1 Axes>"
            ]
          },
          "metadata": {
            "tags": [],
            "needs_background": "light"
          }
        }
      ]
    }
  ]
}