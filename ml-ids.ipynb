{
 "cells": [
  {
   "cell_type": "code",
   "execution_count": 15,
   "id": "victorian-stand",
   "metadata": {},
   "outputs": [
    {
     "name": "stdout",
     "output_type": "stream",
     "text": [
      "Requirement already satisfied: pandas in ./venv/lib/python3.8/site-packages (1.2.4)\n",
      "Requirement already satisfied: numpy in ./venv/lib/python3.8/site-packages (1.20.2)\n",
      "Requirement already satisfied: scikit-learn in ./venv/lib/python3.8/site-packages (0.24.2)\n",
      "Requirement already satisfied: pydotplus in ./venv/lib/python3.8/site-packages (2.0.2)\n",
      "Collecting matplotlib\n",
      "  Downloading matplotlib-3.4.1-cp38-cp38-manylinux1_x86_64.whl (10.3 MB)\n",
      "\u001b[K     |████████████████████████████████| 10.3 MB 394 kB/s eta 0:00:01    |██████████████████▎             | 5.9 MB 394 kB/s eta 0:00:12\n",
      "\u001b[?25hRequirement already satisfied: python-dateutil>=2.7.3 in ./venv/lib/python3.8/site-packages (from pandas) (2.8.1)\n",
      "Requirement already satisfied: pytz>=2017.3 in ./venv/lib/python3.8/site-packages (from pandas) (2021.1)\n",
      "Requirement already satisfied: joblib>=0.11 in ./venv/lib/python3.8/site-packages (from scikit-learn) (1.0.1)\n",
      "Requirement already satisfied: scipy>=0.19.1 in ./venv/lib/python3.8/site-packages (from scikit-learn) (1.6.3)\n",
      "Requirement already satisfied: threadpoolctl>=2.0.0 in ./venv/lib/python3.8/site-packages (from scikit-learn) (2.1.0)\n",
      "Requirement already satisfied: pyparsing>=2.0.1 in ./venv/lib/python3.8/site-packages (from pydotplus) (2.4.7)\n",
      "Collecting cycler>=0.10\n",
      "  Downloading cycler-0.10.0-py2.py3-none-any.whl (6.5 kB)\n",
      "Collecting kiwisolver>=1.0.1\n",
      "  Downloading kiwisolver-1.3.1-cp38-cp38-manylinux1_x86_64.whl (1.2 MB)\n",
      "\u001b[K     |████████████████████████████████| 1.2 MB 17.5 MB/s eta 0:00:01\n",
      "\u001b[?25hCollecting pillow>=6.2.0\n",
      "  Downloading Pillow-8.2.0-cp38-cp38-manylinux1_x86_64.whl (3.0 MB)\n",
      "\u001b[K     |████████████████████████████████| 3.0 MB 16.3 MB/s eta 0:00:01\n",
      "\u001b[?25hRequirement already satisfied: six>=1.5 in ./venv/lib/python3.8/site-packages (from python-dateutil>=2.7.3->pandas) (1.15.0)\n",
      "Installing collected packages: cycler, kiwisolver, pillow, matplotlib\n",
      "Successfully installed cycler-0.10.0 kiwisolver-1.3.1 matplotlib-3.4.1 pillow-8.2.0\n"
     ]
    }
   ],
   "source": [
    "!pip install pandas numpy scikit-learn pydotplus matplotlib"
   ]
  },
  {
   "cell_type": "code",
   "execution_count": 2,
   "id": "historic-gravity",
   "metadata": {},
   "outputs": [],
   "source": [
    "import os \n",
    "import glob\n",
    "import pandas as pd\n",
    "\n",
    "\n",
    "\n",
    "import numpy as np\n",
    "import urllib\n",
    "from sklearn import tree\n",
    "from sklearn import  model_selection\n",
    "from sklearn.metrics import confusion_matrix\n",
    "from sklearn.model_selection import train_test_split\n",
    "#from sklearn.externals.six import StringIO \n",
    "from six import StringIO\n",
    "from sklearn.tree import export_graphviz\n",
    "from IPython.display import Image  \n",
    "from IPython.display import display\n",
    "import pydotplus\n",
    "\n",
    "import matplotlib\n",
    "\n",
    "%matplotlib inline\n",
    "from matplotlib import pyplot as plt"
   ]
  },
  {
   "cell_type": "code",
   "execution_count": 20,
   "id": "a5860aee",
   "metadata": {},
   "outputs": [],
   "source": [
    "#carregar dataset concatenado\n",
    "combined_csv = pd.read_csv('combined_data.csv').drop(['Unnamed: 0'], axis = 1)"
   ]
  },
  {
   "cell_type": "code",
   "execution_count": 6,
   "id": "0fd30658",
   "metadata": {},
   "outputs": [
    {
     "name": "stdout",
     "output_type": "stream",
     "text": [
      "['Tuesday-WorkingHours.pcap_ISCX.csv', 'Wednesday-workingHours.pcap_ISCX.csv', 'Monday-WorkingHours.pcap_ISCX.csv', 'Friday-WorkingHours-Afternoon-DDos.pcap_ISCX.csv', 'Friday-WorkingHours-Afternoon-PortScan.pcap_ISCX.csv', 'Thursday-WorkingHours-Afternoon-Infilteration.pcap_ISCX.csv', 'Thursday-WorkingHours-Morning-WebAttacks.pcap_ISCX.csv', 'Friday-WorkingHours-Morning.pcap_ISCX.csv']\n"
     ]
    }
   ],
   "source": [
    "#usado para concaternar os datasets\n",
    "'''\n",
    "os.chdir(\"/home/camila/workspace/ml-ids\")\n",
    "extension = 'csv'\n",
    "all_filenames = [i for i in glob.glob('*.{}'.format(extension))]\n",
    "print(all_filenames)'''"
   ]
  },
  {
   "cell_type": "code",
   "execution_count": 7,
   "id": "7722ae68",
   "metadata": {},
   "outputs": [],
   "source": [
    "#usado para concaternar os datasets\n",
    "'''\n",
    "combined_csv = pd.concat([pd.read_csv(f) for f in all_filenames ])\n",
    "combined_csv.to_csv( \"combined_csv.csv\", index=False, encoding='utf-8-sig')'''"
   ]
  },
  {
   "cell_type": "code",
   "execution_count": 68,
   "id": "bbece481",
   "metadata": {},
   "outputs": [],
   "source": [
    "combined_csv = combined_csv.rename(columns=str.lower)"
   ]
  },
  {
   "cell_type": "code",
   "execution_count": 69,
   "id": "73df2570",
   "metadata": {},
   "outputs": [],
   "source": [
    "combined_csv.columns = combined_csv.columns.str.lstrip()"
   ]
  },
  {
   "cell_type": "code",
   "execution_count": 70,
   "id": "1715cb41",
   "metadata": {},
   "outputs": [],
   "source": [
    "combined_csv.columns = combined_csv.columns.str.replace(' ','_')"
   ]
  },
  {
   "cell_type": "code",
   "execution_count": 21,
   "id": "80736779",
   "metadata": {},
   "outputs": [
    {
     "data": {
      "text/html": [
       "<div>\n",
       "<style scoped>\n",
       "    .dataframe tbody tr th:only-of-type {\n",
       "        vertical-align: middle;\n",
       "    }\n",
       "\n",
       "    .dataframe tbody tr th {\n",
       "        vertical-align: top;\n",
       "    }\n",
       "\n",
       "    .dataframe thead th {\n",
       "        text-align: right;\n",
       "    }\n",
       "</style>\n",
       "<table border=\"1\" class=\"dataframe\">\n",
       "  <thead>\n",
       "    <tr style=\"text-align: right;\">\n",
       "      <th></th>\n",
       "      <th>destination_port</th>\n",
       "      <th>flow_duration</th>\n",
       "      <th>total_fwd_packets</th>\n",
       "      <th>total_backward_packets</th>\n",
       "      <th>total_length_of_fwd_packets</th>\n",
       "      <th>total_length_of_bwd_packets</th>\n",
       "      <th>fwd_packet_length_max</th>\n",
       "      <th>fwd_packet_length_min</th>\n",
       "      <th>fwd_packet_length_mean</th>\n",
       "      <th>fwd_packet_length_std</th>\n",
       "      <th>...</th>\n",
       "      <th>min_seg_size_forward</th>\n",
       "      <th>active_mean</th>\n",
       "      <th>active_std</th>\n",
       "      <th>active_max</th>\n",
       "      <th>active_min</th>\n",
       "      <th>idle_mean</th>\n",
       "      <th>idle_std</th>\n",
       "      <th>idle_max</th>\n",
       "      <th>idle_min</th>\n",
       "      <th>label</th>\n",
       "    </tr>\n",
       "  </thead>\n",
       "  <tbody>\n",
       "    <tr>\n",
       "      <th>0</th>\n",
       "      <td>88</td>\n",
       "      <td>640</td>\n",
       "      <td>7</td>\n",
       "      <td>4</td>\n",
       "      <td>440</td>\n",
       "      <td>358</td>\n",
       "      <td>220</td>\n",
       "      <td>0</td>\n",
       "      <td>62.857143</td>\n",
       "      <td>107.349008</td>\n",
       "      <td>...</td>\n",
       "      <td>20</td>\n",
       "      <td>0.0</td>\n",
       "      <td>0.0</td>\n",
       "      <td>0</td>\n",
       "      <td>0</td>\n",
       "      <td>0.0</td>\n",
       "      <td>0.0</td>\n",
       "      <td>0</td>\n",
       "      <td>0</td>\n",
       "      <td>BENIGN</td>\n",
       "    </tr>\n",
       "    <tr>\n",
       "      <th>1</th>\n",
       "      <td>88</td>\n",
       "      <td>900</td>\n",
       "      <td>9</td>\n",
       "      <td>4</td>\n",
       "      <td>600</td>\n",
       "      <td>2944</td>\n",
       "      <td>300</td>\n",
       "      <td>0</td>\n",
       "      <td>66.666667</td>\n",
       "      <td>132.287566</td>\n",
       "      <td>...</td>\n",
       "      <td>20</td>\n",
       "      <td>0.0</td>\n",
       "      <td>0.0</td>\n",
       "      <td>0</td>\n",
       "      <td>0</td>\n",
       "      <td>0.0</td>\n",
       "      <td>0.0</td>\n",
       "      <td>0</td>\n",
       "      <td>0</td>\n",
       "      <td>BENIGN</td>\n",
       "    </tr>\n",
       "    <tr>\n",
       "      <th>2</th>\n",
       "      <td>88</td>\n",
       "      <td>1205</td>\n",
       "      <td>7</td>\n",
       "      <td>4</td>\n",
       "      <td>2776</td>\n",
       "      <td>2830</td>\n",
       "      <td>1388</td>\n",
       "      <td>0</td>\n",
       "      <td>396.571429</td>\n",
       "      <td>677.274651</td>\n",
       "      <td>...</td>\n",
       "      <td>20</td>\n",
       "      <td>0.0</td>\n",
       "      <td>0.0</td>\n",
       "      <td>0</td>\n",
       "      <td>0</td>\n",
       "      <td>0.0</td>\n",
       "      <td>0.0</td>\n",
       "      <td>0</td>\n",
       "      <td>0</td>\n",
       "      <td>BENIGN</td>\n",
       "    </tr>\n",
       "    <tr>\n",
       "      <th>3</th>\n",
       "      <td>88</td>\n",
       "      <td>511</td>\n",
       "      <td>7</td>\n",
       "      <td>4</td>\n",
       "      <td>452</td>\n",
       "      <td>370</td>\n",
       "      <td>226</td>\n",
       "      <td>0</td>\n",
       "      <td>64.571429</td>\n",
       "      <td>110.276708</td>\n",
       "      <td>...</td>\n",
       "      <td>20</td>\n",
       "      <td>0.0</td>\n",
       "      <td>0.0</td>\n",
       "      <td>0</td>\n",
       "      <td>0</td>\n",
       "      <td>0.0</td>\n",
       "      <td>0.0</td>\n",
       "      <td>0</td>\n",
       "      <td>0</td>\n",
       "      <td>BENIGN</td>\n",
       "    </tr>\n",
       "    <tr>\n",
       "      <th>4</th>\n",
       "      <td>88</td>\n",
       "      <td>773</td>\n",
       "      <td>9</td>\n",
       "      <td>4</td>\n",
       "      <td>612</td>\n",
       "      <td>2944</td>\n",
       "      <td>306</td>\n",
       "      <td>0</td>\n",
       "      <td>68.000000</td>\n",
       "      <td>134.933317</td>\n",
       "      <td>...</td>\n",
       "      <td>20</td>\n",
       "      <td>0.0</td>\n",
       "      <td>0.0</td>\n",
       "      <td>0</td>\n",
       "      <td>0</td>\n",
       "      <td>0.0</td>\n",
       "      <td>0.0</td>\n",
       "      <td>0</td>\n",
       "      <td>0</td>\n",
       "      <td>BENIGN</td>\n",
       "    </tr>\n",
       "  </tbody>\n",
       "</table>\n",
       "<p>5 rows × 79 columns</p>\n",
       "</div>"
      ],
      "text/plain": [
       "   destination_port  flow_duration  total_fwd_packets  total_backward_packets  \\\n",
       "0                88            640                  7                       4   \n",
       "1                88            900                  9                       4   \n",
       "2                88           1205                  7                       4   \n",
       "3                88            511                  7                       4   \n",
       "4                88            773                  9                       4   \n",
       "\n",
       "   total_length_of_fwd_packets  total_length_of_bwd_packets  \\\n",
       "0                          440                          358   \n",
       "1                          600                         2944   \n",
       "2                         2776                         2830   \n",
       "3                          452                          370   \n",
       "4                          612                         2944   \n",
       "\n",
       "   fwd_packet_length_max  fwd_packet_length_min  fwd_packet_length_mean  \\\n",
       "0                    220                      0               62.857143   \n",
       "1                    300                      0               66.666667   \n",
       "2                   1388                      0              396.571429   \n",
       "3                    226                      0               64.571429   \n",
       "4                    306                      0               68.000000   \n",
       "\n",
       "   fwd_packet_length_std  ...  min_seg_size_forward  active_mean  active_std  \\\n",
       "0             107.349008  ...                    20          0.0         0.0   \n",
       "1             132.287566  ...                    20          0.0         0.0   \n",
       "2             677.274651  ...                    20          0.0         0.0   \n",
       "3             110.276708  ...                    20          0.0         0.0   \n",
       "4             134.933317  ...                    20          0.0         0.0   \n",
       "\n",
       "   active_max  active_min  idle_mean  idle_std  idle_max  idle_min   label  \n",
       "0           0           0        0.0       0.0         0         0  BENIGN  \n",
       "1           0           0        0.0       0.0         0         0  BENIGN  \n",
       "2           0           0        0.0       0.0         0         0  BENIGN  \n",
       "3           0           0        0.0       0.0         0         0  BENIGN  \n",
       "4           0           0        0.0       0.0         0         0  BENIGN  \n",
       "\n",
       "[5 rows x 79 columns]"
      ]
     },
     "execution_count": 21,
     "metadata": {},
     "output_type": "execute_result"
    }
   ],
   "source": [
    "combined_csv.head(5)"
   ]
  },
  {
   "cell_type": "code",
   "execution_count": 6,
   "id": "545ded44",
   "metadata": {
    "scrolled": true
   },
   "outputs": [
    {
     "name": "stdout",
     "output_type": "stream",
     "text": [
      "<class 'pandas.core.frame.DataFrame'>\n",
      "RangeIndex: 2830743 entries, 0 to 2830742\n",
      "Data columns (total 79 columns):\n",
      " #   Column                       Dtype  \n",
      "---  ------                       -----  \n",
      " 0   destination_port             int64  \n",
      " 1   flow_duration                int64  \n",
      " 2   total_fwd_packets            int64  \n",
      " 3   total_backward_packets       int64  \n",
      " 4   total_length_of_fwd_packets  int64  \n",
      " 5   total_length_of_bwd_packets  int64  \n",
      " 6   fwd_packet_length_max        int64  \n",
      " 7   fwd_packet_length_min        int64  \n",
      " 8   fwd_packet_length_mean       float64\n",
      " 9   fwd_packet_length_std        float64\n",
      " 10  bwd_packet_length_max        int64  \n",
      " 11  bwd_packet_length_min        int64  \n",
      " 12  bwd_packet_length_mean       float64\n",
      " 13  bwd_packet_length_std        float64\n",
      " 14  flow_bytes/s                 float64\n",
      " 15  flow_packets/s               float64\n",
      " 16  flow_iat_mean                float64\n",
      " 17  flow_iat_std                 float64\n",
      " 18  flow_iat_max                 int64  \n",
      " 19  flow_iat_min                 int64  \n",
      " 20  fwd_iat_total                int64  \n",
      " 21  fwd_iat_mean                 float64\n",
      " 22  fwd_iat_std                  float64\n",
      " 23  fwd_iat_max                  int64  \n",
      " 24  fwd_iat_min                  int64  \n",
      " 25  bwd_iat_total                int64  \n",
      " 26  bwd_iat_mean                 float64\n",
      " 27  bwd_iat_std                  float64\n",
      " 28  bwd_iat_max                  int64  \n",
      " 29  bwd_iat_min                  int64  \n",
      " 30  fwd_psh_flags                int64  \n",
      " 31  bwd_psh_flags                int64  \n",
      " 32  fwd_urg_flags                int64  \n",
      " 33  bwd_urg_flags                int64  \n",
      " 34  fwd_header_length            int64  \n",
      " 35  bwd_header_length            int64  \n",
      " 36  fwd_packets/s                float64\n",
      " 37  bwd_packets/s                float64\n",
      " 38  min_packet_length            int64  \n",
      " 39  max_packet_length            int64  \n",
      " 40  packet_length_mean           float64\n",
      " 41  packet_length_std            float64\n",
      " 42  packet_length_variance       float64\n",
      " 43  fin_flag_count               int64  \n",
      " 44  syn_flag_count               int64  \n",
      " 45  rst_flag_count               int64  \n",
      " 46  psh_flag_count               int64  \n",
      " 47  ack_flag_count               int64  \n",
      " 48  urg_flag_count               int64  \n",
      " 49  cwe_flag_count               int64  \n",
      " 50  ece_flag_count               int64  \n",
      " 51  down/up_ratio                int64  \n",
      " 52  average_packet_size          float64\n",
      " 53  avg_fwd_segment_size         float64\n",
      " 54  avg_bwd_segment_size         float64\n",
      " 55  fwd_header_length.1          int64  \n",
      " 56  fwd_avg_bytes/bulk           int64  \n",
      " 57  fwd_avg_packets/bulk         int64  \n",
      " 58  fwd_avg_bulk_rate            int64  \n",
      " 59  bwd_avg_bytes/bulk           int64  \n",
      " 60  bwd_avg_packets/bulk         int64  \n",
      " 61  bwd_avg_bulk_rate            int64  \n",
      " 62  subflow_fwd_packets          int64  \n",
      " 63  subflow_fwd_bytes            int64  \n",
      " 64  subflow_bwd_packets          int64  \n",
      " 65  subflow_bwd_bytes            int64  \n",
      " 66  init_win_bytes_forward       int64  \n",
      " 67  init_win_bytes_backward      int64  \n",
      " 68  act_data_pkt_fwd             int64  \n",
      " 69  min_seg_size_forward         int64  \n",
      " 70  active_mean                  float64\n",
      " 71  active_std                   float64\n",
      " 72  active_max                   int64  \n",
      " 73  active_min                   int64  \n",
      " 74  idle_mean                    float64\n",
      " 75  idle_std                     float64\n",
      " 76  idle_max                     int64  \n",
      " 77  idle_min                     int64  \n",
      " 78  label                        object \n",
      "dtypes: float64(24), int64(54), object(1)\n",
      "memory usage: 1.7+ GB\n"
     ]
    }
   ],
   "source": [
    "combined_csv.info()"
   ]
  },
  {
   "cell_type": "code",
   "execution_count": 39,
   "id": "2114ede5",
   "metadata": {},
   "outputs": [
    {
     "data": {
      "text/plain": [
       "<bound method NDFrame._add_numeric_operations.<locals>.any of destination_port               False\n",
       "flow_duration                  False\n",
       "total_fwd_packets              False\n",
       "total_backward_packets         False\n",
       "total_length_of_fwd_packets    False\n",
       "                               ...  \n",
       "idle_mean                      False\n",
       "idle_std                       False\n",
       "idle_max                       False\n",
       "idle_min                       False\n",
       "label                          False\n",
       "Length: 79, dtype: bool>"
      ]
     },
     "execution_count": 39,
     "metadata": {},
     "output_type": "execute_result"
    }
   ],
   "source": [
    "combined_csv.isnull().any().any"
   ]
  },
  {
   "cell_type": "code",
   "execution_count": 22,
   "id": "50d73e4a",
   "metadata": {},
   "outputs": [
    {
     "data": {
      "text/plain": [
       "False"
      ]
     },
     "execution_count": 22,
     "metadata": {},
     "output_type": "execute_result"
    }
   ],
   "source": [
    "combined_csv = combined_csv.replace([np.inf, -np.inf], np.nan)\n",
    "# Drop all occurences of NaN\n",
    "combined_csv = combined_csv.dropna()\n",
    "# Double check these are all gone\n",
    "combined_csv.isnull().any().any()"
   ]
  },
  {
   "cell_type": "code",
   "execution_count": 23,
   "id": "170b2380",
   "metadata": {},
   "outputs": [
    {
     "data": {
      "text/plain": [
       "BENIGN                        2271320\n",
       "DoS Hulk                       230124\n",
       "PortScan                       158804\n",
       "DDoS                           128025\n",
       "DoS GoldenEye                   10293\n",
       "FTP-Patator                      7935\n",
       "SSH-Patator                      5897\n",
       "DoS slowloris                    5796\n",
       "DoS Slowhttptest                 5499\n",
       "Bot                              1956\n",
       "Web Attack � Brute Force         1507\n",
       "Web Attack � XSS                  652\n",
       "Infiltration                       36\n",
       "Web Attack � Sql Injection         21\n",
       "Heartbleed                         11\n",
       "Name: label, dtype: int64"
      ]
     },
     "execution_count": 23,
     "metadata": {},
     "output_type": "execute_result"
    }
   ],
   "source": [
    "combined_csv['label'].value_counts()\n"
   ]
  },
  {
   "cell_type": "code",
   "execution_count": 24,
   "id": "handmade-watershed",
   "metadata": {},
   "outputs": [],
   "source": [
    "combined_csv = combined_csv.replace(['Heartbleed', 'Web Attack � Sql Injection', 'Infiltration'], np.nan)\n",
    "combined_csv = combined_csv.dropna()"
   ]
  },
  {
   "cell_type": "code",
   "execution_count": 26,
   "id": "2fed050d",
   "metadata": {},
   "outputs": [
    {
     "data": {
      "text/plain": [
       "False"
      ]
     },
     "execution_count": 26,
     "metadata": {},
     "output_type": "execute_result"
    }
   ],
   "source": [
    "combined_csv.isnull().any().any() #retirar"
   ]
  },
  {
   "cell_type": "code",
   "execution_count": 27,
   "id": "bd614e69",
   "metadata": {},
   "outputs": [
    {
     "name": "stderr",
     "output_type": "stream",
     "text": [
      "<ipython-input-27-ef26279a02b8>:2: FutureWarning: The default value of regex will change from True to False in a future version.\n",
      "  combined_csv[\"label\"] =  combined_csv.label.str.replace('[^\\x00-\\x7F]','')\n"
     ]
    }
   ],
   "source": [
    "#removing unicode text\n",
    "combined_csv[\"label\"] =  combined_csv.label.str.replace('[^\\x00-\\x7F]','')\n",
    "#duplicate whitespace\n",
    "combined_csv[\"label\"] = combined_csv.label.replace('\\s+', ' ', regex=True)"
   ]
  },
  {
   "cell_type": "code",
   "execution_count": 28,
   "id": "d49f4600",
   "metadata": {},
   "outputs": [
    {
     "data": {
      "text/plain": [
       "BENIGN                    2271320\n",
       "DoS Hulk                   230124\n",
       "PortScan                   158804\n",
       "DDoS                       128025\n",
       "DoS GoldenEye               10293\n",
       "FTP-Patator                  7935\n",
       "SSH-Patator                  5897\n",
       "DoS slowloris                5796\n",
       "DoS Slowhttptest             5499\n",
       "Bot                          1956\n",
       "Web Attack Brute Force       1507\n",
       "Web Attack XSS                652\n",
       "Name: label, dtype: int64"
      ]
     },
     "execution_count": 28,
     "metadata": {},
     "output_type": "execute_result"
    }
   ],
   "source": [
    "combined_csv['label'].value_counts()"
   ]
  },
  {
   "cell_type": "code",
   "execution_count": 29,
   "id": "8e057203",
   "metadata": {},
   "outputs": [],
   "source": [
    "combined_csv['network_flow'] = np.where(combined_csv['label'] == 'BENIGN', 0, 1)"
   ]
  },
  {
   "cell_type": "code",
   "execution_count": 30,
   "id": "angry-mounting",
   "metadata": {},
   "outputs": [
    {
     "data": {
      "text/plain": [
       "benign         2271320\n",
       "dos             251712\n",
       "probe           158804\n",
       "ddos            128025\n",
       "brute_force      13832\n",
       "web_attack        2159\n",
       "botnet            1956\n",
       "Name: network_flow_description, dtype: int64"
      ]
     },
     "execution_count": 30,
     "metadata": {},
     "output_type": "execute_result"
    }
   ],
   "source": [
    "# Proposed Groupings\n",
    "attack_description = {'BENIGN': 'benign', \n",
    "                'DoS Hulk': 'dos',\n",
    "                'PortScan': 'probe', \n",
    "                'DDoS': 'ddos',\n",
    "                'DoS GoldenEye': 'dos', \n",
    "                'FTP-Patator': 'brute_force',\n",
    "                'SSH-Patator': 'brute_force', \n",
    "                'DoS slowloris': 'dos', \n",
    "                'DoS Slowhttptest': 'dos',\n",
    "                'Bot': 'botnet',\n",
    "                'Web Attack Brute Force': 'web_attack', \n",
    "                'Web Attack XSS': 'web_attack'}\n",
    "# Create grouped label column\n",
    "combined_csv['network_flow_description'] = combined_csv['label'].map(lambda x: attack_description[x])\n",
    "combined_csv['network_flow_description'].value_counts()"
   ]
  },
  {
   "cell_type": "code",
   "execution_count": 32,
   "id": "5acf702a",
   "metadata": {},
   "outputs": [
    {
     "data": {
      "text/plain": [
       "Text(0.5, 1.0, 'Ungruped Network Flow Types')"
      ]
     },
     "execution_count": 32,
     "metadata": {},
     "output_type": "execute_result"
    },
    {
     "data": {
      "image/png": "[encoded data removed]",
      "text/plain": [
       "<Figure size 432x288 with 1 Axes>"
      ]
     },
     "metadata": {
      "needs_background": "light"
     },
     "output_type": "display_data"
    }
   ],
   "source": [
    "train_attacks = combined_csv['label'].value_counts()\n",
    "train_attacks.plot(kind='barh', color='#a3c1ad')\n",
    "plt.title('Ungruped Network Flow Types')"
   ]
  },
  {
   "cell_type": "code",
   "execution_count": 19,
   "id": "scenic-correlation",
   "metadata": {},
   "outputs": [
    {
     "data": {
      "text/plain": [
       "Text(0.5, 1.0, 'Network Flow Types (bad and good grouped)')"
      ]
     },
     "execution_count": 19,
     "metadata": {},
     "output_type": "execute_result"
    },
    {
     "data": {
      "image/png": "[encoded data removed]",
      "text/plain": [
       "<Figure size 432x288 with 1 Axes>"
      ]
     },
     "metadata": {
      "needs_background": "light"
     },
     "output_type": "display_data"
    }
   ],
   "source": [
    "network_flow_counts = combined_csv['network_flow'].value_counts()\n",
    "network_flow_counts.plot(kind='barh', color='#a3c1ad')\n",
    "plt.title('Network Flow Types (bad and good grouped)')"
   ]
  }
 ],
 "metadata": {
  "kernelspec": {
   "display_name": "Python 3",
   "language": "python",
   "name": "python3"
  },
  "language_info": {
   "codemirror_mode": {
    "name": "ipython",
    "version": 3
   },
   "file_extension": ".py",
   "mimetype": "text/x-python",
   "name": "python",
   "nbconvert_exporter": "python",
   "pygments_lexer": "ipython3",
   "version": "3.8.5"
  }
 },
 "nbformat": 4,
 "nbformat_minor": 5
}
